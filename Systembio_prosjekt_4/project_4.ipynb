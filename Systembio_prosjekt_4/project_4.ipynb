{
 "cells": [
  {
   "cell_type": "markdown",
   "metadata": {},
   "source": [
    "### Introduction\n",
    "\n",
    "In this project, you will be continuing your work with the *Escherichia coli* core model and investigate how the growth phenotype of the model changes when varying one or multiple exchange fluxes. Additionally, you will be conducting a gene essentiality analysis on the model where the deletion of a gene can be simulated by simply constraining the lower and upper flux bounds of its associated reactions to 0. Gene deletion analysis is a common application of genome-scale metabolic models and allow us to assess the effects of a gene deletion on the metabolic phenotype of an organism before initiating expensive and time-consuming experiments in the lab. I recommend taking a look at the `cobrapy` documentation before starting with the project, particularly the section on deletion analysis found [here](https://cobrapy.readthedocs.io/en/latest/deletions.html).\n",
    "\n",
    "\n",
    "### 1.1 Phenotype phase plane analysis\n",
    "\n",
    "(i) Using the `cobrapy` function `production_envelope` (see [documentation](https://cobrapy.readthedocs.io/en/latest/phenotype_phase_plane.html)), calculate the growth rate as a function of glucose uptake flux when oxygen is unlimited for the *E. coli* core model. Plot growth vs. glucose uptake flux from 0 to -25 mmol gDW<sup>-1</sup> h<sup>-1</sup>."
   ]
  },
  {
   "cell_type": "code",
   "execution_count": null,
   "metadata": {},
   "outputs": [],
   "source": [
    "import cobra\n",
    "import matplotlib.pyplot as plt\n",
    "\n",
    "# Load the E. coli core model from XML file\n",
    "model = cobra.io.read_sbml_model('/Users/edgartandberg/Documents/Personlig/Vs_code/Systembiologi_v2024/Systembio_prosjekt_4/ecoli_core_model.xml')\n",
    "\n",
    "model.objective = 'BIOMASS_Ecoli_core_w_GAM'\n",
    "\n",
    "#Define the range of glucose uptake flux\n",
    "glucose_range = range(0, -26, -1)\n",
    "\n",
    "# Calculate the growth rate for each glucose uptake flux\n",
    "growth_rates = []\n",
    "for glucose_flux in glucose_range:\n",
    "    model.reactions.get_by_id('EX_glc__D_e').lower_bound = glucose_flux\n",
    "    solution = model.optimize()\n",
    "    growth_rate = solution.objective_value\n",
    "    growth_rates.append(growth_rate)\n",
    "\n",
    "#Plot growth rate vs. glucose uptake flux\n",
    "plt.plot(glucose_range, growth_rates)\n",
    "plt.xlabel('Glucose Uptake Flux (mmol gDW^-1 h^-1)')\n",
    "plt.ylabel('Growth Rate (1/h)')\n",
    "plt.title('Growth Rate vs. Glucose Uptake Flux')\n",
    "plt.show()\n",
    "\n",
    "\n"
   ]
  },
  {
   "cell_type": "markdown",
   "metadata": {},
   "source": [
    "(ii) Same as in (i), but now limit the oxygen uptake flux to -10 mmol gDW<sup>-1</sup> h<sup>-1</sup> . Compare and explain the differences with the results from (i)."
   ]
  },
  {
   "cell_type": "code",
   "execution_count": null,
   "metadata": {},
   "outputs": [],
   "source": [
    "# Set the oxygen uptake flux to -10 mmol gDW^-1 h^-1\n",
    "model.reactions.get_by_id('EX_o2_e').lower_bound = -10\n",
    "\n",
    "# Calculate the growth rate for each glucose uptake flux\n",
    "growth_rates = []\n",
    "for glucose_flux in glucose_range:\n",
    "    model.reactions.get_by_id('EX_glc__D_e').lower_bound = glucose_flux\n",
    "    solution = model.optimize()\n",
    "    growth_rate = solution.objective_value\n",
    "    growth_rates.append(growth_rate)\n",
    "\n",
    "# Plot growth rate vs. glucose uptake flux\n",
    "plt.plot(glucose_range, growth_rates)\n",
    "plt.xlabel('Glucose Uptake Flux (mmol gDW^-1 h^-1)')\n",
    "plt.ylabel('Growth Rate (1/h)')\n",
    "plt.title('Growth Rate vs. Glucose Uptake Flux (Oxygen limited)')\n",
    "plt.show()\n"
   ]
  },
  {
   "cell_type": "markdown",
   "metadata": {},
   "source": [
    "(iii) Same as in (i) and (ii), but with succinate as the only carbon source. Compare and explain the differences with the results from (i) and (ii). Use the calculated growth rates from Table 1 in Project 3 to argue for your results."
   ]
  },
  {
   "cell_type": "code",
   "execution_count": null,
   "metadata": {},
   "outputs": [],
   "source": [
    "# Set the carbon source to succinate\n",
    "model.reactions.get_by_id('EX_succ_e').lower_bound = -10\n",
    "\n",
    "# Calculate the growth rate for each succinate uptake flux\n",
    "growth_rates = []\n",
    "for succinate_flux in glucose_range:\n",
    "    model.reactions.get_by_id('EX_succ_e').lower_bound = succinate_flux\n",
    "    solution = model.optimize()\n",
    "    growth_rate = solution.objective_value\n",
    "    growth_rates.append(growth_rate)\n",
    "\n",
    "# Plot growth rate vs. succinate uptake flux\n",
    "plt.plot(glucose_range, growth_rates)\n",
    "plt.xlabel('Succinate Uptake Flux (mmol gDW^-1 h^-1)')\n",
    "plt.ylabel('Growth Rate (1/h)')\n",
    "plt.title('Growth Rate vs. Succinate Uptake Flux')\n",
    "plt.show()\n"
   ]
  },
  {
   "cell_type": "markdown",
   "metadata": {},
   "source": [
    "Commonly, we classify the linear segments of the production envelopes by their *shadow prices*, which are defined as\n",
    "\n",
    "$\n",
    "\\begin{align}\n",
    " \\pi_i = -\\frac{\\partial Z}{\\partial b_i}.\n",
    "\\end{align}\n",
    "$\n",
    "\n",
    "The shadow prices $\\pi_i$ defines the sensitivity of the objective function $Z$ to changes in the availability of a given metabolite $i$. $b_i$ defines the violation of the mass balance constraint of metabolite $i$ and is equivalent to an uptake reaction. In other words, it quantitatively describes how the objective function value would change if we could import more of an exchangeable metabolite. A negative $\\pi_i$ indicates that increasing the availability of a metabolite $i$ will increase the optimal objective value, while a positive $\\pi_i$ indicates that the optimal objective value will decrease.\n",
    "\n",
    "While the production envelopes plotted above are interesting in their own right, it is often more informative to investigate the growth phenotype when adjusting two exchange fluxes simultaneously. This is called phenotype phase plane analysis (PhPP). Rather than forming linear segments, PhPP results in the formation of two-dimensional planes which are defined by their metabolic phenotype and shadow prices of the two variable exchange metabolites.\n",
    "\n",
    "(iv) Start by plotting a PhPP and associated shadow prices for glucose and oxygen using the *E. coli* core model and the `PhPP` and associated plotting functions found in the `tbtFunctions` module. Use a `flux_range` evenly distributed between 0 and -20 with 50 data points."
   ]
  },
  {
   "cell_type": "code",
   "execution_count": null,
   "metadata": {},
   "outputs": [],
   "source": [
    "import os\n",
    "\n",
    "current_directory = os.getcwd()\n",
    "print(current_directory)"
   ]
  },
  {
   "cell_type": "code",
   "execution_count": null,
   "metadata": {},
   "outputs": [],
   "source": [
    "import importlib.util\n",
    "from matplotlib import pyplot as plt\n",
    "\n",
    "# Specify the file path\n",
    "file_path = '/Users/edgartandberg/Documents/Personlig/Vs_code/Systembiologi_v2024/Systembio_prosjekt_4/tbtFunctions(1).py'\n",
    "\n",
    "# Import the module\n",
    "spec = importlib.util.spec_from_file_location('tbtFunctions', file_path)\n",
    "tbtFunctions = importlib.util.module_from_spec(spec)\n",
    "spec.loader.exec_module(tbtFunctions)\n",
    "\n",
    "# Define the flux range\n",
    "flux_range = range(0, -21, -1)\n",
    "\n",
    "# Calculate the PhPP and shadow prices\n",
    "tbtFunctions.PhPP(model, 'EX_glc__D_e', 'EX_o2_e', flux_range)\n",
    "\n",
    "# Plot the PhPP and shadow prices\n",
    "plt.xlabel('Glucose Uptake Flux (mmol gDW^-1 h^-1)')\n",
    "plt.ylabel('Oxygen Uptake Flux (mmol gDW^-1 h^-1)')\n",
    "plt.title('Phenotype Phase Plane (Glucose vs. Oxygen)')\n",
    "plt.show()\n"
   ]
  },
  {
   "cell_type": "markdown",
   "metadata": {},
   "source": [
    "We can observe that the shadow prices $\\pi_i$ are constant in each of the phase planes. Consequently, we can determine the properties of the different phases by calculating\n",
    "\n",
    "$\n",
    "\\begin{align}\n",
    " \\alpha = -\\frac{\\pi_x}{\\pi_y},\n",
    "\\end{align}\n",
    "$\n",
    "\n",
    "the ratio between the shadow prices associated with the two exchange fluxes $x$ and $y$ (here, glucose and oxygen). We can then define four types of phases in PhPP:\n",
    "1. If $\\alpha < 0$, the objective function is limited by both exchange fluxes (*dual substrate limitation*).\n",
    "2. If $\\alpha > 0$, the region is called a *futile phase*: one of the exchange substrates will have a positive shadow price. Characterized by wasteful metabolic operations (substrate consumed does not improve $Z$).\n",
    "3. If either $\\pi_x = 0$ or $\\pi_y = 0$, the region is described by *single substrate limitation*.\n",
    "4. *Infeasible phases* due to a combination of stoichiometric limitations and/or substrate availability (no growth).\n",
    "\n",
    "(v) How many unique phases does this PhPP have? Classify these according to the four types defined above."
   ]
  },
  {
   "cell_type": "markdown",
   "metadata": {},
   "source": [
    "(vi) Considering the reasonable assumption of growth optimality, where do you think *E. coli* strains will be located on this PhPP in vivo?"
   ]
  },
  {
   "cell_type": "markdown",
   "metadata": {},
   "source": [
    "### 1.2 Gene deletion analysis\n",
    "\n",
    "(i) Conduct a single gene deletion study for all the genes in the *E. coli* core model. Use the default defined nutrient environment (i.e. aerobic glucose).\n",
    "\n",
    "(a) By making a scatter plot of the relative growth rates (mutant growth / wild type growth) for all gene deletions, define what you consider to be an essential gene."
   ]
  },
  {
   "cell_type": "code",
   "execution_count": null,
   "metadata": {},
   "outputs": [],
   "source": [
    "import cobra\n",
    "import matplotlib.pyplot as plt\n",
    "\n",
    "# Load the E. coli core model\n",
    "model = cobra.io.read_sbml_model('ecoli_core_model.xml')\n",
    "\n",
    "# Perform single gene deletion study\n",
    "deletion_results = cobra.flux_analysis.single_gene_deletion(model)\n",
    "\n",
    "# Get the growth rates for each gene deletion\n",
    "growth_rates = deletion_results.growth_rate\n",
    "\n",
    "# Calculate the relative growth rates\n",
    "relative_growth_rates = growth_rates / deletion_results.wildtype_growth_rate\n",
    "\n",
    "# Plot the scatter plot of relative growth rates\n",
    "plt.scatter(range(len(relative_growth_rates)), relative_growth_rates)\n",
    "plt.xlabel('Gene Index')\n",
    "plt.ylabel('Relative Growth Rate')\n",
    "plt.title('Relative Growth Rates for Single Gene Deletions')\n",
    "plt.show()\n"
   ]
  },
  {
   "cell_type": "markdown",
   "metadata": {},
   "source": [
    "(b) Identify the name and function of all the essential genes you found. While checking which reactions these genes are associateed with in the model is useful, it can also be an idea to check biochemical databases for informations such as [EcoCyc](https://ecocyc.org/)."
   ]
  },
  {
   "cell_type": "code",
   "execution_count": null,
   "metadata": {},
   "outputs": [],
   "source": [
    "# Get the essential genes\n",
    "essential_genes = deletion_results[deletion_results['growth_rate'] == 0]\n",
    "\n",
    "# Print the name and function of each essential gene\n",
    "for gene_id in essential_genes.index:\n",
    "    gene = model.genes.get_by_id(gene_id)\n",
    "    print(f\"Gene ID: {gene_id}\")\n",
    "    print(f\"Name: {gene.name}\")\n",
    "    print(f\"Function: {gene.annotation['function']}\")\n",
    "    print()\n"
   ]
  },
  {
   "cell_type": "markdown",
   "metadata": {},
   "source": [
    "(c) Give plausible explanations for why they are essential."
   ]
  },
  {
   "cell_type": "markdown",
   "metadata": {},
   "source": [
    "(ii) Change the single carbon source from glucose to acetate and redo the analysis in (a) (no need to go into detail on the function of each gene, comment on the general trend). Also, identify the essential genes that are common to both nutrient environments, and those that are specific to acetate. Explain why this is so."
   ]
  },
  {
   "cell_type": "code",
   "execution_count": null,
   "metadata": {},
   "outputs": [],
   "source": [
    "# Set the carbon source to acetate\n",
    "model.reactions.get_by_id('EX_glc__D_e').lower_bound = 0\n",
    "model.reactions.get_by_id('EX_ac_e').lower_bound = -10\n",
    "\n",
    "# Perform single gene deletion study\n",
    "deletion_results_acetate = cobra.flux_analysis.single_gene_deletion(model)\n",
    "\n",
    "# Get the growth rates for each gene deletion\n",
    "growth_rates_acetate = deletion_results_acetate.growth_rate\n",
    "\n",
    "# Calculate the relative growth rates\n",
    "relative_growth_rates_acetate = growth_rates_acetate / deletion_results_acetate.wildtype_growth_rate\n",
    "\n",
    "# Plot the scatter plot of relative growth rates for acetate\n",
    "plt.scatter(range(len(relative_growth_rates_acetate)), relative_growth_rates_acetate)\n",
    "plt.xlabel('Gene Index')\n",
    "plt.ylabel('Relative Growth Rate')\n",
    "plt.title('Relative Growth Rates for Single Gene Deletions (Acetate)')\n",
    "plt.show()\n"
   ]
  },
  {
   "cell_type": "markdown",
   "metadata": {},
   "source": [
    "(iii) Conduct a complete double-gene deletion study of the model in the original nutrient environment.\n",
    "\n",
    "(a) What is the fraction of essential double-gene knockouts?"
   ]
  },
  {
   "cell_type": "code",
   "execution_count": null,
   "metadata": {},
   "outputs": [],
   "source": [
    "# Calculate the fraction of essential double-gene knockouts\n",
    "fraction_essential = len(double_gene_knockouts[double_gene_knockouts['growth_rate'] == 0]) / len(double_gene_knockouts)\n",
    "\n",
    "# Print the fraction of essential double-gene knockouts\n",
    "print(f\"The fraction of essential double-gene knockouts is: {fraction_essential}\")\n"
   ]
  },
  {
   "cell_type": "markdown",
   "metadata": {},
   "source": [
    "(b)  Which genes are involved in the largest number of essential double-knockout combinations? Any idea why?"
   ]
  },
  {
   "cell_type": "markdown",
   "metadata": {},
   "source": [
    "(iv) Same analysis as in (iii), but this time with acetate as the single carbon source."
   ]
  },
  {
   "cell_type": "code",
   "execution_count": null,
   "metadata": {},
   "outputs": [],
   "source": [
    "# Set the carbon source to acetate\n",
    "model.reactions.get_by_id('EX_glc__D_e').lower_bound = 0\n",
    "model.reactions.get_by_id('EX_ac_e').lower_bound = -10\n",
    "\n",
    "# Perform single gene deletion study\n",
    "deletion_results_acetate = cobra.flux_analysis.single_gene_deletion(model)\n",
    "\n",
    "# Get the growth rates for each gene deletion\n",
    "growth_rates_acetate = deletion_results_acetate.growth_rate\n",
    "\n",
    "# Calculate the relative growth rates\n",
    "relative_growth_rates_acetate = growth_rates_acetate / deletion_results_acetate.wildtype_growth_rate\n",
    "\n",
    "# Plot the scatter plot of relative growth rates for acetate\n",
    "plt.scatter(range(len(relative_growth_rates_acetate)), relative_growth_rates_acetate)\n",
    "plt.xlabel('Gene Index')\n",
    "plt.ylabel('Relative Growth Rate')\n",
    "plt.title('Relative Growth Rates for Single Gene Deletions (Acetate)')\n",
    "plt.show()\n"
   ]
  },
  {
   "cell_type": "markdown",
   "metadata": {},
   "source": [
    "(v) Use the results from (i) and (iii) to identify only the synthetic lethal gene combinations. How many are there?"
   ]
  },
  {
   "cell_type": "code",
   "execution_count": null,
   "metadata": {},
   "outputs": [],
   "source": [
    "# Get the essential genes from the single gene deletion study\n",
    "essential_genes = deletion_results[deletion_results['growth_rate'] == 0]\n",
    "\n",
    "# Get the gene pairs where both genes are essential\n",
    "synthetic_lethal_pairs = []\n",
    "for i in range(len(essential_genes)):\n",
    "    for j in range(i+1, len(essential_genes)):\n",
    "        gene1 = essential_genes.index[i]\n",
    "        gene2 = essential_genes.index[j]\n",
    "        synthetic_lethal_pairs.append((gene1, gene2))\n",
    "\n",
    "# Count the number of synthetic lethal gene combinations\n",
    "num_synthetic_lethal_pairs = len(synthetic_lethal_pairs)\n",
    "\n",
    "# Print the number of synthetic lethal gene combinations\n",
    "print(f\"The number of synthetic lethal gene combinations is: {num_synthetic_lethal_pairs}\")\n"
   ]
  },
  {
   "cell_type": "markdown",
   "metadata": {},
   "source": [
    "(vi) Select a partial essential gene from (a) (i.e., a gene which when deleted reduces the relative growth rate of the model, but not below the chosen essentiality threshold). Visualize its optimal flux distribution in Escher and compare it to the wild type flux distribution. Discuss and explain the observed differences in flux phenotypes."
   ]
  },
  {
   "cell_type": "code",
   "execution_count": null,
   "metadata": {},
   "outputs": [],
   "source": [
    "import cobra\n",
    "import escher\n",
    "from escher import Builder\n",
    "\n",
    "# Load the E. coli core model\n",
    "model = cobra.io.read_sbml_model('ecoli_core_model.xml')\n",
    "\n",
    "# Select a partial essential gene\n",
    "partial_essential_gene = 'gene_name'\n",
    "\n",
    "# Delete the partial essential gene from the model\n",
    "model.genes.get_by_id(partial_essential_gene).knock_out()\n",
    "\n",
    "# Optimize the model to obtain the optimal flux distribution\n",
    "solution = model.optimize()\n",
    "\n",
    "# Get the optimal flux distribution\n",
    "flux_distribution = solution.fluxes\n",
    "\n",
    "# Load the Escher map\n",
    "builder = Builder(map_name='e_coli_core.Core metabolism')\n",
    "\n",
    "# Set the fluxes in the Escher map\n",
    "builder.reaction_data = flux_distribution.to_dict()\n",
    "\n",
    "# Display the Escher map\n",
    "builder.display_in_notebook()\n"
   ]
  }
 ],
 "metadata": {
  "interpreter": {
   "hash": "fd8ecb0a0e5529365023c160038f61c833598c1f7ab6b6860ba833c51f7774d8"
  },
  "kernelspec": {
   "display_name": "Python 3.8.9 64-bit ('.venv': venv)",
   "name": "python3"
  },
  "language_info": {
   "codemirror_mode": {
    "name": "ipython",
    "version": 3
   },
   "file_extension": ".py",
   "mimetype": "text/x-python",
   "name": "python",
   "nbconvert_exporter": "python",
   "pygments_lexer": "ipython3",
   "version": "3.11.5"
  },
  "orig_nbformat": 4
 },
 "nbformat": 4,
 "nbformat_minor": 2
}
