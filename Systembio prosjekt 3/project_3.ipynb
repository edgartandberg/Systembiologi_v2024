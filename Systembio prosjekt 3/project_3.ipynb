{
 "cells": [
  {
   "cell_type": "markdown",
   "metadata": {},
   "source": [
    "### 1.1 Toy model\n",
    "\n",
    "Consider the following toy metabolic network with 8 reactions ($\\mathrm{R}_1$, ..., $\\mathrm{R}_8$) and 8 metabolites ($\\mathrm{A}$, $\\mathrm{B}$, $\\mathrm{C}$, $\\mathrm{D}$, $\\mathrm{E}$, $\\mathrm{ATP}$, $\\mathrm{ADP}$, and $\\mathrm{P}_\\mathrm{i}$) (see supplementary pdf file).\n",
    "\n",
    "(i) Specify which metabolites are transported across the cell boundaries (e.g., cell membrane), and the direction of transport."
   ]
  },
  {
   "cell_type": "markdown",
   "metadata": {},
   "source": [
    "Across the membrane:\n",
    "\n",
    "All metabolites\n",
    "\n"
   ]
  },
  {
   "cell_type": "markdown",
   "metadata": {},
   "source": [
    "(ii) Write down the stoichiometric matrix **S** using the ordering of reactions and metabolites as defined above. How many degrees of freedom does this reaction system have and what is the dimensionality of the solution space (i.e. null space of **S**)?"
   ]
  },
  {
   "cell_type": "code",
   "execution_count": 5,
   "metadata": {},
   "outputs": [
    {
     "name": "stdout",
     "output_type": "stream",
     "text": [
      "[[  1   1   0   0   1   0   0   0]\n",
      " [  0   1   1   1   0   0   0   0]\n",
      " [  0   1   1   0   0   1   0   0]\n",
      " [  0   0   0   1   1   0   0   1]\n",
      " [  0   0   0   0   1   1   0   0]\n",
      " [  0   1   1   0   1   0   1   0]\n",
      " [  0   1   1   0   1   0   1   0]\n",
      " [  0   1   1   0   1   0   1   0]]\n",
      "\n",
      "\n",
      "The array S has 2 degrees of freedom.\n",
      "\n",
      "The null space of S is:\n",
      "[[ 6.45833983e-01  1.65356921e-01]\n",
      " [-5.55977134e-01  1.55636627e-01]\n",
      " [ 4.66120286e-01 -4.76630175e-01]\n",
      " [ 8.98568485e-02  3.20993548e-01]\n",
      " [-8.98568485e-02 -3.20993548e-01]\n",
      " [ 8.98568485e-02  3.20993548e-01]\n",
      " [ 1.79713697e-01  6.41987096e-01]\n",
      " [ 1.52655666e-16 -3.19189120e-16]]\n"
     ]
    }
   ],
   "source": [
    "import numpy as np\n",
    "from scipy.linalg import null_space\n",
    "S = np.array([[1, 1, 0, 0, 1, 0, 0, 0],\n",
    "              [0, 1, 1, 1, 0, 0, 0, 0],\n",
    "              [0, 1, 1, 0, 0, 1, 0, 0],\n",
    "              [0, 0, 0, 1, 1, 0, 0, 1],\n",
    "              [0, 0, 0, 0, 1, 1, 0, 0],\n",
    "              [0, 1, 1, 0, 1, 0, 1, 0],\n",
    "              [0, 1, 1, 0, 1, 0, 1, 0],\n",
    "              [0, 1, 1, 0, 1, 0, 1, 0]])\n",
    "\n",
    "np.set_printoptions(formatter={'int': '{:3d}'.format})\n",
    "print(S)\n",
    "print(\"\")\n",
    "print(\"\")\n",
    "\n",
    "degrees_of_freedom = S.shape[1] - np.linalg.matrix_rank(S)\n",
    "print(f\"The array S has {degrees_of_freedom} degrees of freedom.\")\n",
    "print(\"\")\n",
    "\n",
    "\n",
    "null_space_S = null_space(S)\n",
    "print(\"The null space of S is:\")\n",
    "print(null_space_S)\n"
   ]
  },
  {
   "cell_type": "code",
   "execution_count": null,
   "metadata": {},
   "outputs": [],
   "source": []
  },
  {
   "cell_type": "markdown",
   "metadata": {},
   "source": [
    "(iii) Given an upper flux bound for $\\mathrm{R}_1$ of 10 mmol gDW<sup>-1</sup> h<sup>-1</sup>, what is the maximal attainable flux through reaction $\\mathrm{R}_8$ and the corresponding flux distribution? What is the net production of ATP (i.e., the flux through $\\mathrm{R}_7$)? Implement the model using `cobrapy` and verify your answer by selecting $\\mathrm{R}_8$ as the objective and maximizing its flux.\n",
    "\n",
    "The `objective` is an attribute of the Model object, while the lower and upper flux bounds of a reaction is given by the attributes `lower_bound` and `upper_bound` of the corresponding Reaction object, respectively."
   ]
  },
  {
   "cell_type": "code",
   "execution_count": 3,
   "metadata": {},
   "outputs": [
    {
     "ename": "ModuleNotFoundError",
     "evalue": "No module named 'httpcore._utils'",
     "output_type": "error",
     "traceback": [
      "\u001b[0;31m---------------------------------------------------------------------------\u001b[0m",
      "\u001b[0;31mModuleNotFoundError\u001b[0m                       Traceback (most recent call last)",
      "\u001b[0;32m/var/folders/fz/4bfw_gbd2294lhyrv3wtk32h0000gn/T/ipykernel_25581/2440381625.py\u001b[0m in \u001b[0;36m<module>\u001b[0;34m\u001b[0m\n\u001b[0;32m----> 1\u001b[0;31m \u001b[0;32mfrom\u001b[0m \u001b[0mcobra\u001b[0m \u001b[0;32mimport\u001b[0m \u001b[0mModel\u001b[0m\u001b[0;34m,\u001b[0m \u001b[0mReaction\u001b[0m\u001b[0;34m,\u001b[0m \u001b[0mMetabolite\u001b[0m\u001b[0;34m\u001b[0m\u001b[0;34m\u001b[0m\u001b[0m\n\u001b[0m\u001b[1;32m      2\u001b[0m \u001b[0;34m\u001b[0m\u001b[0m\n\u001b[1;32m      3\u001b[0m \u001b[0;31m# Define the model\u001b[0m\u001b[0;34m\u001b[0m\u001b[0;34m\u001b[0m\u001b[0;34m\u001b[0m\u001b[0m\n\u001b[1;32m      4\u001b[0m \u001b[0mmodel\u001b[0m \u001b[0;34m=\u001b[0m \u001b[0mModel\u001b[0m\u001b[0;34m(\u001b[0m\u001b[0;34m'Metabolic_Network'\u001b[0m\u001b[0;34m)\u001b[0m\u001b[0;34m\u001b[0m\u001b[0;34m\u001b[0m\u001b[0m\n\u001b[1;32m      5\u001b[0m \u001b[0;34m\u001b[0m\u001b[0m\n",
      "\u001b[0;32m~/Documents/Personlig/Vs_code/hello_ds/.venv/lib/python3.7/site-packages/cobra/__init__.py\u001b[0m in \u001b[0;36m<module>\u001b[0;34m\u001b[0m\n\u001b[1;32m     15\u001b[0m )\n\u001b[1;32m     16\u001b[0m \u001b[0;32mfrom\u001b[0m \u001b[0mcobra\u001b[0m \u001b[0;32mimport\u001b[0m \u001b[0mflux_analysis\u001b[0m\u001b[0;34m\u001b[0m\u001b[0;34m\u001b[0m\u001b[0m\n\u001b[0;32m---> 17\u001b[0;31m \u001b[0;32mfrom\u001b[0m \u001b[0mcobra\u001b[0m \u001b[0;32mimport\u001b[0m \u001b[0mio\u001b[0m\u001b[0;34m\u001b[0m\u001b[0;34m\u001b[0m\u001b[0m\n\u001b[0m\u001b[1;32m     18\u001b[0m \u001b[0;32mfrom\u001b[0m \u001b[0mcobra\u001b[0m \u001b[0;32mimport\u001b[0m \u001b[0mmedium\u001b[0m\u001b[0;34m\u001b[0m\u001b[0;34m\u001b[0m\u001b[0m\n\u001b[1;32m     19\u001b[0m \u001b[0;32mfrom\u001b[0m \u001b[0mcobra\u001b[0m \u001b[0;32mimport\u001b[0m \u001b[0msampling\u001b[0m\u001b[0;34m\u001b[0m\u001b[0;34m\u001b[0m\u001b[0m\n",
      "\u001b[0;32m~/Documents/Personlig/Vs_code/hello_ds/.venv/lib/python3.7/site-packages/cobra/io/__init__.py\u001b[0m in \u001b[0;36m<module>\u001b[0;34m\u001b[0m\n\u001b[1;32m      7\u001b[0m \u001b[0;32mfrom\u001b[0m \u001b[0mcobra\u001b[0m\u001b[0;34m.\u001b[0m\u001b[0mio\u001b[0m\u001b[0;34m.\u001b[0m\u001b[0msbml\u001b[0m \u001b[0;32mimport\u001b[0m \u001b[0mread_sbml_model\u001b[0m\u001b[0;34m,\u001b[0m \u001b[0mwrite_sbml_model\u001b[0m\u001b[0;34m,\u001b[0m \u001b[0mvalidate_sbml_model\u001b[0m\u001b[0;34m\u001b[0m\u001b[0;34m\u001b[0m\u001b[0m\n\u001b[1;32m      8\u001b[0m \u001b[0;32mfrom\u001b[0m \u001b[0mcobra\u001b[0m\u001b[0;34m.\u001b[0m\u001b[0mio\u001b[0m\u001b[0;34m.\u001b[0m\u001b[0myaml\u001b[0m \u001b[0;32mimport\u001b[0m \u001b[0mfrom_yaml\u001b[0m\u001b[0;34m,\u001b[0m \u001b[0mload_yaml_model\u001b[0m\u001b[0;34m,\u001b[0m \u001b[0msave_yaml_model\u001b[0m\u001b[0;34m,\u001b[0m \u001b[0mto_yaml\u001b[0m\u001b[0;34m\u001b[0m\u001b[0;34m\u001b[0m\u001b[0m\n\u001b[0;32m----> 9\u001b[0;31m \u001b[0;32mfrom\u001b[0m \u001b[0mcobra\u001b[0m\u001b[0;34m.\u001b[0m\u001b[0mio\u001b[0m\u001b[0;34m.\u001b[0m\u001b[0mweb\u001b[0m \u001b[0;32mimport\u001b[0m \u001b[0mAbstractModelRepository\u001b[0m\u001b[0;34m,\u001b[0m \u001b[0mBiGGModels\u001b[0m\u001b[0;34m,\u001b[0m \u001b[0mBioModels\u001b[0m\u001b[0;34m,\u001b[0m \u001b[0mload_model\u001b[0m\u001b[0;34m\u001b[0m\u001b[0;34m\u001b[0m\u001b[0m\n\u001b[0m",
      "\u001b[0;32m~/Documents/Personlig/Vs_code/hello_ds/.venv/lib/python3.7/site-packages/cobra/io/web/__init__.py\u001b[0m in \u001b[0;36m<module>\u001b[0;34m\u001b[0m\n\u001b[1;32m      2\u001b[0m \u001b[0;34m\u001b[0m\u001b[0m\n\u001b[1;32m      3\u001b[0m \u001b[0;34m\u001b[0m\u001b[0m\n\u001b[0;32m----> 4\u001b[0;31m \u001b[0;32mfrom\u001b[0m \u001b[0;34m.\u001b[0m\u001b[0mabstract_model_repository\u001b[0m \u001b[0;32mimport\u001b[0m \u001b[0mAbstractModelRepository\u001b[0m\u001b[0;34m\u001b[0m\u001b[0;34m\u001b[0m\u001b[0m\n\u001b[0m\u001b[1;32m      5\u001b[0m \u001b[0;32mfrom\u001b[0m \u001b[0;34m.\u001b[0m\u001b[0mbigg_models_repository\u001b[0m \u001b[0;32mimport\u001b[0m \u001b[0mBiGGModels\u001b[0m\u001b[0;34m\u001b[0m\u001b[0;34m\u001b[0m\u001b[0m\n\u001b[1;32m      6\u001b[0m \u001b[0;32mfrom\u001b[0m \u001b[0;34m.\u001b[0m\u001b[0mbiomodels_repository\u001b[0m \u001b[0;32mimport\u001b[0m \u001b[0mBioModels\u001b[0m\u001b[0;34m\u001b[0m\u001b[0;34m\u001b[0m\u001b[0m\n",
      "\u001b[0;32m~/Documents/Personlig/Vs_code/hello_ds/.venv/lib/python3.7/site-packages/cobra/io/web/abstract_model_repository.py\u001b[0m in \u001b[0;36m<module>\u001b[0;34m\u001b[0m\n\u001b[1;32m      5\u001b[0m \u001b[0;32mfrom\u001b[0m \u001b[0mtyping\u001b[0m \u001b[0;32mimport\u001b[0m \u001b[0mUnion\u001b[0m\u001b[0;34m\u001b[0m\u001b[0;34m\u001b[0m\u001b[0m\n\u001b[1;32m      6\u001b[0m \u001b[0;34m\u001b[0m\u001b[0m\n\u001b[0;32m----> 7\u001b[0;31m \u001b[0;32mimport\u001b[0m \u001b[0mhttpx\u001b[0m\u001b[0;34m\u001b[0m\u001b[0;34m\u001b[0m\u001b[0m\n\u001b[0m\u001b[1;32m      8\u001b[0m from rich.progress import (\n\u001b[1;32m      9\u001b[0m     \u001b[0mBarColumn\u001b[0m\u001b[0;34m,\u001b[0m\u001b[0;34m\u001b[0m\u001b[0;34m\u001b[0m\u001b[0m\n",
      "\u001b[0;32m~/Documents/Personlig/Vs_code/hello_ds/.venv/lib/python3.7/site-packages/httpx/__init__.py\u001b[0m in \u001b[0;36m<module>\u001b[0;34m\u001b[0m\n\u001b[1;32m      1\u001b[0m \u001b[0;32mfrom\u001b[0m \u001b[0;34m.\u001b[0m\u001b[0m__version__\u001b[0m \u001b[0;32mimport\u001b[0m \u001b[0m__description__\u001b[0m\u001b[0;34m,\u001b[0m \u001b[0m__title__\u001b[0m\u001b[0;34m,\u001b[0m \u001b[0m__version__\u001b[0m\u001b[0;34m\u001b[0m\u001b[0;34m\u001b[0m\u001b[0m\n\u001b[0;32m----> 2\u001b[0;31m \u001b[0;32mfrom\u001b[0m \u001b[0;34m.\u001b[0m\u001b[0m_api\u001b[0m \u001b[0;32mimport\u001b[0m \u001b[0mdelete\u001b[0m\u001b[0;34m,\u001b[0m \u001b[0mget\u001b[0m\u001b[0;34m,\u001b[0m \u001b[0mhead\u001b[0m\u001b[0;34m,\u001b[0m \u001b[0moptions\u001b[0m\u001b[0;34m,\u001b[0m \u001b[0mpatch\u001b[0m\u001b[0;34m,\u001b[0m \u001b[0mpost\u001b[0m\u001b[0;34m,\u001b[0m \u001b[0mput\u001b[0m\u001b[0;34m,\u001b[0m \u001b[0mrequest\u001b[0m\u001b[0;34m,\u001b[0m \u001b[0mstream\u001b[0m\u001b[0;34m\u001b[0m\u001b[0;34m\u001b[0m\u001b[0m\n\u001b[0m\u001b[1;32m      3\u001b[0m \u001b[0;32mfrom\u001b[0m \u001b[0;34m.\u001b[0m\u001b[0m_auth\u001b[0m \u001b[0;32mimport\u001b[0m \u001b[0mAuth\u001b[0m\u001b[0;34m,\u001b[0m \u001b[0mBasicAuth\u001b[0m\u001b[0;34m,\u001b[0m \u001b[0mDigestAuth\u001b[0m\u001b[0;34m\u001b[0m\u001b[0;34m\u001b[0m\u001b[0m\n\u001b[1;32m      4\u001b[0m \u001b[0;32mfrom\u001b[0m \u001b[0;34m.\u001b[0m\u001b[0m_client\u001b[0m \u001b[0;32mimport\u001b[0m \u001b[0mUSE_CLIENT_DEFAULT\u001b[0m\u001b[0;34m,\u001b[0m \u001b[0mAsyncClient\u001b[0m\u001b[0;34m,\u001b[0m \u001b[0mClient\u001b[0m\u001b[0;34m\u001b[0m\u001b[0;34m\u001b[0m\u001b[0m\n\u001b[1;32m      5\u001b[0m \u001b[0;32mfrom\u001b[0m \u001b[0;34m.\u001b[0m\u001b[0m_config\u001b[0m \u001b[0;32mimport\u001b[0m \u001b[0mLimits\u001b[0m\u001b[0;34m,\u001b[0m \u001b[0mProxy\u001b[0m\u001b[0;34m,\u001b[0m \u001b[0mTimeout\u001b[0m\u001b[0;34m,\u001b[0m \u001b[0mcreate_ssl_context\u001b[0m\u001b[0;34m\u001b[0m\u001b[0;34m\u001b[0m\u001b[0m\n",
      "\u001b[0;32m~/Documents/Personlig/Vs_code/hello_ds/.venv/lib/python3.7/site-packages/httpx/_api.py\u001b[0m in \u001b[0;36m<module>\u001b[0;34m\u001b[0m\n\u001b[1;32m      2\u001b[0m \u001b[0;32mfrom\u001b[0m \u001b[0mcontextlib\u001b[0m \u001b[0;32mimport\u001b[0m \u001b[0mcontextmanager\u001b[0m\u001b[0;34m\u001b[0m\u001b[0;34m\u001b[0m\u001b[0m\n\u001b[1;32m      3\u001b[0m \u001b[0;34m\u001b[0m\u001b[0m\n\u001b[0;32m----> 4\u001b[0;31m \u001b[0;32mfrom\u001b[0m \u001b[0;34m.\u001b[0m\u001b[0m_client\u001b[0m \u001b[0;32mimport\u001b[0m \u001b[0mClient\u001b[0m\u001b[0;34m\u001b[0m\u001b[0;34m\u001b[0m\u001b[0m\n\u001b[0m\u001b[1;32m      5\u001b[0m \u001b[0;32mfrom\u001b[0m \u001b[0;34m.\u001b[0m\u001b[0m_config\u001b[0m \u001b[0;32mimport\u001b[0m \u001b[0mDEFAULT_TIMEOUT_CONFIG\u001b[0m\u001b[0;34m\u001b[0m\u001b[0;34m\u001b[0m\u001b[0m\n\u001b[1;32m      6\u001b[0m \u001b[0;32mfrom\u001b[0m \u001b[0;34m.\u001b[0m\u001b[0m_models\u001b[0m \u001b[0;32mimport\u001b[0m \u001b[0mResponse\u001b[0m\u001b[0;34m\u001b[0m\u001b[0;34m\u001b[0m\u001b[0m\n",
      "\u001b[0;32m~/Documents/Personlig/Vs_code/hello_ds/.venv/lib/python3.7/site-packages/httpx/_client.py\u001b[0m in \u001b[0;36m<module>\u001b[0;34m\u001b[0m\n\u001b[1;32m     27\u001b[0m \u001b[0;32mfrom\u001b[0m \u001b[0;34m.\u001b[0m\u001b[0m_transports\u001b[0m\u001b[0;34m.\u001b[0m\u001b[0masgi\u001b[0m \u001b[0;32mimport\u001b[0m \u001b[0mASGITransport\u001b[0m\u001b[0;34m\u001b[0m\u001b[0;34m\u001b[0m\u001b[0m\n\u001b[1;32m     28\u001b[0m \u001b[0;32mfrom\u001b[0m \u001b[0;34m.\u001b[0m\u001b[0m_transports\u001b[0m\u001b[0;34m.\u001b[0m\u001b[0mbase\u001b[0m \u001b[0;32mimport\u001b[0m \u001b[0mAsyncBaseTransport\u001b[0m\u001b[0;34m,\u001b[0m \u001b[0mBaseTransport\u001b[0m\u001b[0;34m\u001b[0m\u001b[0;34m\u001b[0m\u001b[0m\n\u001b[0;32m---> 29\u001b[0;31m \u001b[0;32mfrom\u001b[0m \u001b[0;34m.\u001b[0m\u001b[0m_transports\u001b[0m\u001b[0;34m.\u001b[0m\u001b[0mdefault\u001b[0m \u001b[0;32mimport\u001b[0m \u001b[0mAsyncHTTPTransport\u001b[0m\u001b[0;34m,\u001b[0m \u001b[0mHTTPTransport\u001b[0m\u001b[0;34m\u001b[0m\u001b[0;34m\u001b[0m\u001b[0m\n\u001b[0m\u001b[1;32m     30\u001b[0m \u001b[0;32mfrom\u001b[0m \u001b[0;34m.\u001b[0m\u001b[0m_transports\u001b[0m\u001b[0;34m.\u001b[0m\u001b[0mwsgi\u001b[0m \u001b[0;32mimport\u001b[0m \u001b[0mWSGITransport\u001b[0m\u001b[0;34m\u001b[0m\u001b[0;34m\u001b[0m\u001b[0m\n\u001b[1;32m     31\u001b[0m from ._types import (\n",
      "\u001b[0;32m~/Documents/Personlig/Vs_code/hello_ds/.venv/lib/python3.7/site-packages/httpx/_transports/default.py\u001b[0m in \u001b[0;36m<module>\u001b[0;34m\u001b[0m\n\u001b[1;32m     28\u001b[0m \u001b[0;32mfrom\u001b[0m \u001b[0mtypes\u001b[0m \u001b[0;32mimport\u001b[0m \u001b[0mTracebackType\u001b[0m\u001b[0;34m\u001b[0m\u001b[0;34m\u001b[0m\u001b[0m\n\u001b[1;32m     29\u001b[0m \u001b[0;34m\u001b[0m\u001b[0m\n\u001b[0;32m---> 30\u001b[0;31m \u001b[0;32mimport\u001b[0m \u001b[0mhttpcore\u001b[0m\u001b[0;34m\u001b[0m\u001b[0;34m\u001b[0m\u001b[0m\n\u001b[0m\u001b[1;32m     31\u001b[0m \u001b[0;34m\u001b[0m\u001b[0m\n\u001b[1;32m     32\u001b[0m \u001b[0;32mfrom\u001b[0m \u001b[0;34m.\u001b[0m\u001b[0;34m.\u001b[0m\u001b[0m_config\u001b[0m \u001b[0;32mimport\u001b[0m \u001b[0mDEFAULT_LIMITS\u001b[0m\u001b[0;34m,\u001b[0m \u001b[0mLimits\u001b[0m\u001b[0;34m,\u001b[0m \u001b[0mProxy\u001b[0m\u001b[0;34m,\u001b[0m \u001b[0mcreate_ssl_context\u001b[0m\u001b[0;34m\u001b[0m\u001b[0;34m\u001b[0m\u001b[0m\n",
      "\u001b[0;32m~/Documents/Personlig/Vs_code/hello_ds/.venv/lib/python3.7/site-packages/httpcore/__init__.py\u001b[0m in \u001b[0;36m<module>\u001b[0;34m\u001b[0m\n\u001b[0;32m----> 1\u001b[0;31m \u001b[0;32mfrom\u001b[0m \u001b[0;34m.\u001b[0m\u001b[0m_api\u001b[0m \u001b[0;32mimport\u001b[0m \u001b[0mrequest\u001b[0m\u001b[0;34m,\u001b[0m \u001b[0mstream\u001b[0m\u001b[0;34m\u001b[0m\u001b[0;34m\u001b[0m\u001b[0m\n\u001b[0m\u001b[1;32m      2\u001b[0m from ._async import (\n\u001b[1;32m      3\u001b[0m     \u001b[0mAsyncConnectionInterface\u001b[0m\u001b[0;34m,\u001b[0m\u001b[0;34m\u001b[0m\u001b[0;34m\u001b[0m\u001b[0m\n\u001b[1;32m      4\u001b[0m     \u001b[0mAsyncConnectionPool\u001b[0m\u001b[0;34m,\u001b[0m\u001b[0;34m\u001b[0m\u001b[0;34m\u001b[0m\u001b[0m\n\u001b[1;32m      5\u001b[0m     \u001b[0mAsyncHTTP2Connection\u001b[0m\u001b[0;34m,\u001b[0m\u001b[0;34m\u001b[0m\u001b[0;34m\u001b[0m\u001b[0m\n",
      "\u001b[0;32m~/Documents/Personlig/Vs_code/hello_ds/.venv/lib/python3.7/site-packages/httpcore/_api.py\u001b[0m in \u001b[0;36m<module>\u001b[0;34m\u001b[0m\n\u001b[1;32m      3\u001b[0m \u001b[0;34m\u001b[0m\u001b[0m\n\u001b[1;32m      4\u001b[0m \u001b[0;32mfrom\u001b[0m \u001b[0;34m.\u001b[0m\u001b[0m_models\u001b[0m \u001b[0;32mimport\u001b[0m \u001b[0mURL\u001b[0m\u001b[0;34m,\u001b[0m \u001b[0mResponse\u001b[0m\u001b[0;34m\u001b[0m\u001b[0;34m\u001b[0m\u001b[0m\n\u001b[0;32m----> 5\u001b[0;31m \u001b[0;32mfrom\u001b[0m \u001b[0;34m.\u001b[0m\u001b[0m_sync\u001b[0m\u001b[0;34m.\u001b[0m\u001b[0mconnection_pool\u001b[0m \u001b[0;32mimport\u001b[0m \u001b[0mConnectionPool\u001b[0m\u001b[0;34m\u001b[0m\u001b[0;34m\u001b[0m\u001b[0m\n\u001b[0m\u001b[1;32m      6\u001b[0m \u001b[0;34m\u001b[0m\u001b[0m\n\u001b[1;32m      7\u001b[0m \u001b[0;34m\u001b[0m\u001b[0m\n",
      "\u001b[0;32m~/Documents/Personlig/Vs_code/hello_ds/.venv/lib/python3.7/site-packages/httpcore/_sync/__init__.py\u001b[0m in \u001b[0;36m<module>\u001b[0;34m\u001b[0m\n\u001b[0;32m----> 1\u001b[0;31m \u001b[0;32mfrom\u001b[0m \u001b[0;34m.\u001b[0m\u001b[0mconnection\u001b[0m \u001b[0;32mimport\u001b[0m \u001b[0mHTTPConnection\u001b[0m\u001b[0;34m\u001b[0m\u001b[0;34m\u001b[0m\u001b[0m\n\u001b[0m\u001b[1;32m      2\u001b[0m \u001b[0;32mfrom\u001b[0m \u001b[0;34m.\u001b[0m\u001b[0mconnection_pool\u001b[0m \u001b[0;32mimport\u001b[0m \u001b[0mConnectionPool\u001b[0m\u001b[0;34m\u001b[0m\u001b[0;34m\u001b[0m\u001b[0m\n\u001b[1;32m      3\u001b[0m \u001b[0;32mfrom\u001b[0m \u001b[0;34m.\u001b[0m\u001b[0mhttp11\u001b[0m \u001b[0;32mimport\u001b[0m \u001b[0mHTTP11Connection\u001b[0m\u001b[0;34m\u001b[0m\u001b[0;34m\u001b[0m\u001b[0m\n\u001b[1;32m      4\u001b[0m \u001b[0;32mfrom\u001b[0m \u001b[0;34m.\u001b[0m\u001b[0mhttp_proxy\u001b[0m \u001b[0;32mimport\u001b[0m \u001b[0mHTTPProxy\u001b[0m\u001b[0;34m\u001b[0m\u001b[0;34m\u001b[0m\u001b[0m\n\u001b[1;32m      5\u001b[0m \u001b[0;32mfrom\u001b[0m \u001b[0;34m.\u001b[0m\u001b[0minterfaces\u001b[0m \u001b[0;32mimport\u001b[0m \u001b[0mConnectionInterface\u001b[0m\u001b[0;34m\u001b[0m\u001b[0;34m\u001b[0m\u001b[0m\n",
      "\u001b[0;32m~/Documents/Personlig/Vs_code/hello_ds/.venv/lib/python3.7/site-packages/httpcore/_sync/connection.py\u001b[0m in \u001b[0;36m<module>\u001b[0;34m\u001b[0m\n\u001b[1;32m      9\u001b[0m \u001b[0;32mfrom\u001b[0m \u001b[0;34m.\u001b[0m\u001b[0;34m.\u001b[0m\u001b[0m_synchronization\u001b[0m \u001b[0;32mimport\u001b[0m \u001b[0mLock\u001b[0m\u001b[0;34m\u001b[0m\u001b[0;34m\u001b[0m\u001b[0m\n\u001b[1;32m     10\u001b[0m \u001b[0;32mfrom\u001b[0m \u001b[0;34m.\u001b[0m\u001b[0;34m.\u001b[0m\u001b[0m_trace\u001b[0m \u001b[0;32mimport\u001b[0m \u001b[0mTrace\u001b[0m\u001b[0;34m\u001b[0m\u001b[0;34m\u001b[0m\u001b[0m\n\u001b[0;32m---> 11\u001b[0;31m \u001b[0;32mfrom\u001b[0m \u001b[0;34m.\u001b[0m\u001b[0;34m.\u001b[0m\u001b[0mbackends\u001b[0m\u001b[0;34m.\u001b[0m\u001b[0msync\u001b[0m \u001b[0;32mimport\u001b[0m \u001b[0mSyncBackend\u001b[0m\u001b[0;34m\u001b[0m\u001b[0;34m\u001b[0m\u001b[0m\n\u001b[0m\u001b[1;32m     12\u001b[0m \u001b[0;32mfrom\u001b[0m \u001b[0;34m.\u001b[0m\u001b[0;34m.\u001b[0m\u001b[0mbackends\u001b[0m\u001b[0;34m.\u001b[0m\u001b[0mbase\u001b[0m \u001b[0;32mimport\u001b[0m \u001b[0mNetworkBackend\u001b[0m\u001b[0;34m,\u001b[0m \u001b[0mNetworkStream\u001b[0m\u001b[0;34m\u001b[0m\u001b[0;34m\u001b[0m\u001b[0m\n\u001b[1;32m     13\u001b[0m \u001b[0;32mfrom\u001b[0m \u001b[0;34m.\u001b[0m\u001b[0mhttp11\u001b[0m \u001b[0;32mimport\u001b[0m \u001b[0mHTTP11Connection\u001b[0m\u001b[0;34m\u001b[0m\u001b[0;34m\u001b[0m\u001b[0m\n",
      "\u001b[0;32m~/Documents/Personlig/Vs_code/hello_ds/.venv/lib/python3.7/site-packages/httpcore/backends/sync.py\u001b[0m in \u001b[0;36m<module>\u001b[0;34m\u001b[0m\n\u001b[1;32m     12\u001b[0m     \u001b[0mmap_exceptions\u001b[0m\u001b[0;34m,\u001b[0m\u001b[0;34m\u001b[0m\u001b[0;34m\u001b[0m\u001b[0m\n\u001b[1;32m     13\u001b[0m )\n\u001b[0;32m---> 14\u001b[0;31m \u001b[0;32mfrom\u001b[0m \u001b[0;34m.\u001b[0m\u001b[0;34m.\u001b[0m\u001b[0m_utils\u001b[0m \u001b[0;32mimport\u001b[0m \u001b[0mis_socket_readable\u001b[0m\u001b[0;34m\u001b[0m\u001b[0;34m\u001b[0m\u001b[0m\n\u001b[0m\u001b[1;32m     15\u001b[0m \u001b[0;32mfrom\u001b[0m \u001b[0;34m.\u001b[0m\u001b[0mbase\u001b[0m \u001b[0;32mimport\u001b[0m \u001b[0mNetworkBackend\u001b[0m\u001b[0;34m,\u001b[0m \u001b[0mNetworkStream\u001b[0m\u001b[0;34m\u001b[0m\u001b[0;34m\u001b[0m\u001b[0m\n\u001b[1;32m     16\u001b[0m \u001b[0;34m\u001b[0m\u001b[0m\n",
      "\u001b[0;31mModuleNotFoundError\u001b[0m: No module named 'httpcore._utils'"
     ]
    }
   ],
   "source": [
    "from cobra import Model, Reaction, Metabolite\n",
    "\n",
    "# Define the model\n",
    "model = Model('Metabolic_Network')\n",
    "\n",
    "# Define the metabolites\n",
    "A = Metabolite('A', compartment='c')\n",
    "ADP = Metabolite('ADP', compartment='c')\n",
    "Pi = Metabolite('Pi', compartment='c')\n",
    "B = Metabolite('B', compartment='c')\n",
    "C = Metabolite('C', compartment='c')\n",
    "ATP = Metabolite('ATP', compartment='c')\n",
    "D = Metabolite('D', compartment='c')\n",
    "E = Metabolite('E', compartment='c')\n",
    "\n",
    "# Add reactions to the model\n",
    "R1 = Reaction('R1')\n",
    "R1.name = 'R1'\n",
    "R1.lower_bound = 0\n",
    "R1.upper_bound = 10  # Upper flux bound for R1 is 10 mmol\n",
    "R1.add_metabolites({A: 1})\n",
    "\n",
    "R2 = Reaction('R2')\n",
    "R2.name = 'R2'\n",
    "R2.add_metabolites({A: -1, ADP: -1, Pi: -1, B: 1, C: 1, ATP: 1})\n",
    "\n",
    "R3 = Reaction('R3')\n",
    "R3.name = 'R3'\n",
    "R3.add_metabolites({C: -1, ATP: -1, B: 1, ADP: 1, Pi: 1})\n",
    "\n",
    "R4 = Reaction('R4')\n",
    "R4.name = 'R4'\n",
    "R4.add_metabolites({B: -1, D: 1})\n",
    "\n",
    "R5 = Reaction('R5')\n",
    "R5.name = 'R5'\n",
    "R5.add_metabolites({A: -1, D: -1, ADP: -1, Pi: -1, E: 1, ATP: 1})\n",
    "\n",
    "R6 = Reaction('R6')\n",
    "R6.name = 'R6'\n",
    "R6.add_metabolites({E: -1, C: 1})\n",
    "\n",
    "R7 = Reaction('R7')\n",
    "R7.name = 'R7'\n",
    "R7.add_metabolites({ATP: -1, ADP: 1, Pi: 1})\n",
    "\n",
    "R8 = Reaction('R8')\n",
    "R8.name = 'R8'\n",
    "R8.add_metabolites({D: -1})\n",
    "\n",
    "# Add the reactions to the model\n",
    "model.add_reactions([R1, R2, R3, R4, R5, R6, R7, R8])\n",
    "\n",
    "# Set the objective as R8\n",
    "model.objective = 'R8'\n",
    "\n",
    "# Perform FBA\n",
    "solution = model.optimize()\n",
    "\n",
    "# Get the fluxes for all reactions and specifically the net production of ATP through R7\n",
    "fluxes = solution.fluxes\n",
    "R8_flux = fluxes['R8']\n",
    "R7_flux = fluxes['R7']\n",
    "\n",
    "R8_flux, R7_flux, fluxes"
   ]
  },
  {
   "cell_type": "markdown",
   "metadata": {},
   "source": [
    "(iv) It has been shown that the maximization of ATP yield in certain instances is a realistic cellular objective. Given the same flux bound for $\\mathrm{R}_1$ as in (iii), explain and discuss the maximal feasible net production of ATP (i.e., flux through reaction $\\mathrm{R}_7$). Verify your answer using `cobrapy`."
   ]
  },
  {
   "cell_type": "code",
   "execution_count": 2,
   "metadata": {},
   "outputs": [
    {
     "ename": "NameError",
     "evalue": "name 'R7_flux' is not defined",
     "output_type": "error",
     "traceback": [
      "\u001b[0;31m---------------------------------------------------------------------------\u001b[0m",
      "\u001b[0;31mNameError\u001b[0m                                 Traceback (most recent call last)",
      "\u001b[0;32m/var/folders/fz/4bfw_gbd2294lhyrv3wtk32h0000gn/T/ipykernel_25581/285742216.py\u001b[0m in \u001b[0;36m<module>\u001b[0;34m\u001b[0m\n\u001b[0;32m----> 1\u001b[0;31m \u001b[0mR7_flux\u001b[0m\u001b[0;34m\u001b[0m\u001b[0;34m\u001b[0m\u001b[0m\n\u001b[0m",
      "\u001b[0;31mNameError\u001b[0m: name 'R7_flux' is not defined"
     ]
    }
   ],
   "source": [
    "# Set the objective as R7\n",
    "model.objective = 'R7'\n",
    "\n",
    "# Perform FBA\n",
    "solution = model.optimize()\n",
    "\n",
    "# Get the fluxes for all reactions and specifically the net production of ATP through R7\n",
    "fluxes = solution.fluxes\n",
    "R7_flux = fluxes['R7']\n",
    "R8_flux = fluxes['R8']\n",
    "\n",
    "R7_flux, R8_flux, fluxes\n"
   ]
  },
  {
   "cell_type": "markdown",
   "metadata": {},
   "source": [
    "(v) Assume that the flux of reaction $\\mathrm{R}_6$ is to be constrained to zero. You may implement this in the stoichiometric matrix by adding a new row to **S** where all column entries are zero except in column 6, which is 1. Explain why this will constrain the flux of reaction $\\mathrm{R}_6$ to zero. What is the dimensionality of this new stoichiometric matrix?"
   ]
  },
  {
   "cell_type": "code",
   "execution_count": 6,
   "metadata": {},
   "outputs": [
    {
     "name": "stdout",
     "output_type": "stream",
     "text": [
      "The dimensionality of the new stoichiometric matrix S_new is: (9, 8)\n"
     ]
    }
   ],
   "source": [
    "import numpy as np\n",
    "\n",
    "# Add a new row to S\n",
    "new_row = np.zeros((1, S.shape[1]))\n",
    "new_row[0, 5] = 1\n",
    "S_new = np.vstack((S, new_row))\n",
    "\n",
    "# Print the dimensionality of the new stoichiometric matrix\n",
    "print(f\"The dimensionality of the new stoichiometric matrix S_new is: {S_new.shape}\")\n"
   ]
  },
  {
   "cell_type": "markdown",
   "metadata": {},
   "source": [
    "### 1.2 *Escherichia coli* core model\n",
    "\n",
    "(i) Download `ecoli_core_model` from Blackboard and read the model using the `read_sbml_model` function in `cobrapy`. Give a description of its content (i.e., number of reactions, metabolites, genes, etc.). Which metabolic subsystems are implemented in the model?\n",
    "\n",
    "Hint: the subsystems can be found in the Model attribute `groups`."
   ]
  },
  {
   "cell_type": "code",
   "execution_count": 8,
   "metadata": {},
   "outputs": [
    {
     "ename": "ModuleNotFoundError",
     "evalue": "No module named 'httpcore._utils'",
     "output_type": "error",
     "traceback": [
      "\u001b[0;31m---------------------------------------------------------------------------\u001b[0m",
      "\u001b[0;31mModuleNotFoundError\u001b[0m                       Traceback (most recent call last)",
      "\u001b[0;32m/var/folders/fz/4bfw_gbd2294lhyrv3wtk32h0000gn/T/ipykernel_25581/82570817.py\u001b[0m in \u001b[0;36m<module>\u001b[0;34m\u001b[0m\n\u001b[0;32m----> 1\u001b[0;31m \u001b[0;32mfrom\u001b[0m \u001b[0mcobra\u001b[0m\u001b[0;34m.\u001b[0m\u001b[0mio\u001b[0m \u001b[0;32mimport\u001b[0m \u001b[0mread_sbml_model\u001b[0m\u001b[0;34m\u001b[0m\u001b[0;34m\u001b[0m\u001b[0m\n\u001b[0m\u001b[1;32m      2\u001b[0m \u001b[0;34m\u001b[0m\u001b[0m\n\u001b[1;32m      3\u001b[0m \u001b[0;31m# Read the model from the SBML file\u001b[0m\u001b[0;34m\u001b[0m\u001b[0;34m\u001b[0m\u001b[0;34m\u001b[0m\u001b[0m\n\u001b[1;32m      4\u001b[0m \u001b[0mmodel\u001b[0m \u001b[0;34m=\u001b[0m \u001b[0mread_sbml_model\u001b[0m\u001b[0;34m(\u001b[0m\u001b[0;34m'ecoli_core_model.xml'\u001b[0m\u001b[0;34m)\u001b[0m\u001b[0;34m\u001b[0m\u001b[0;34m\u001b[0m\u001b[0m\n",
      "\u001b[0;32m~/Documents/Personlig/Vs_code/hello_ds/.venv/lib/python3.7/site-packages/cobra/__init__.py\u001b[0m in \u001b[0;36m<module>\u001b[0;34m\u001b[0m\n\u001b[1;32m     15\u001b[0m )\n\u001b[1;32m     16\u001b[0m \u001b[0;32mfrom\u001b[0m \u001b[0mcobra\u001b[0m \u001b[0;32mimport\u001b[0m \u001b[0mflux_analysis\u001b[0m\u001b[0;34m\u001b[0m\u001b[0;34m\u001b[0m\u001b[0m\n\u001b[0;32m---> 17\u001b[0;31m \u001b[0;32mfrom\u001b[0m \u001b[0mcobra\u001b[0m \u001b[0;32mimport\u001b[0m \u001b[0mio\u001b[0m\u001b[0;34m\u001b[0m\u001b[0;34m\u001b[0m\u001b[0m\n\u001b[0m\u001b[1;32m     18\u001b[0m \u001b[0;32mfrom\u001b[0m \u001b[0mcobra\u001b[0m \u001b[0;32mimport\u001b[0m \u001b[0mmedium\u001b[0m\u001b[0;34m\u001b[0m\u001b[0;34m\u001b[0m\u001b[0m\n\u001b[1;32m     19\u001b[0m \u001b[0;32mfrom\u001b[0m \u001b[0mcobra\u001b[0m \u001b[0;32mimport\u001b[0m \u001b[0msampling\u001b[0m\u001b[0;34m\u001b[0m\u001b[0;34m\u001b[0m\u001b[0m\n",
      "\u001b[0;32m~/Documents/Personlig/Vs_code/hello_ds/.venv/lib/python3.7/site-packages/cobra/io/__init__.py\u001b[0m in \u001b[0;36m<module>\u001b[0;34m\u001b[0m\n\u001b[1;32m      7\u001b[0m \u001b[0;32mfrom\u001b[0m \u001b[0mcobra\u001b[0m\u001b[0;34m.\u001b[0m\u001b[0mio\u001b[0m\u001b[0;34m.\u001b[0m\u001b[0msbml\u001b[0m \u001b[0;32mimport\u001b[0m \u001b[0mread_sbml_model\u001b[0m\u001b[0;34m,\u001b[0m \u001b[0mwrite_sbml_model\u001b[0m\u001b[0;34m,\u001b[0m \u001b[0mvalidate_sbml_model\u001b[0m\u001b[0;34m\u001b[0m\u001b[0;34m\u001b[0m\u001b[0m\n\u001b[1;32m      8\u001b[0m \u001b[0;32mfrom\u001b[0m \u001b[0mcobra\u001b[0m\u001b[0;34m.\u001b[0m\u001b[0mio\u001b[0m\u001b[0;34m.\u001b[0m\u001b[0myaml\u001b[0m \u001b[0;32mimport\u001b[0m \u001b[0mfrom_yaml\u001b[0m\u001b[0;34m,\u001b[0m \u001b[0mload_yaml_model\u001b[0m\u001b[0;34m,\u001b[0m \u001b[0msave_yaml_model\u001b[0m\u001b[0;34m,\u001b[0m \u001b[0mto_yaml\u001b[0m\u001b[0;34m\u001b[0m\u001b[0;34m\u001b[0m\u001b[0m\n\u001b[0;32m----> 9\u001b[0;31m \u001b[0;32mfrom\u001b[0m \u001b[0mcobra\u001b[0m\u001b[0;34m.\u001b[0m\u001b[0mio\u001b[0m\u001b[0;34m.\u001b[0m\u001b[0mweb\u001b[0m \u001b[0;32mimport\u001b[0m \u001b[0mAbstractModelRepository\u001b[0m\u001b[0;34m,\u001b[0m \u001b[0mBiGGModels\u001b[0m\u001b[0;34m,\u001b[0m \u001b[0mBioModels\u001b[0m\u001b[0;34m,\u001b[0m \u001b[0mload_model\u001b[0m\u001b[0;34m\u001b[0m\u001b[0;34m\u001b[0m\u001b[0m\n\u001b[0m",
      "\u001b[0;32m~/Documents/Personlig/Vs_code/hello_ds/.venv/lib/python3.7/site-packages/cobra/io/web/__init__.py\u001b[0m in \u001b[0;36m<module>\u001b[0;34m\u001b[0m\n\u001b[1;32m      2\u001b[0m \u001b[0;34m\u001b[0m\u001b[0m\n\u001b[1;32m      3\u001b[0m \u001b[0;34m\u001b[0m\u001b[0m\n\u001b[0;32m----> 4\u001b[0;31m \u001b[0;32mfrom\u001b[0m \u001b[0;34m.\u001b[0m\u001b[0mabstract_model_repository\u001b[0m \u001b[0;32mimport\u001b[0m \u001b[0mAbstractModelRepository\u001b[0m\u001b[0;34m\u001b[0m\u001b[0;34m\u001b[0m\u001b[0m\n\u001b[0m\u001b[1;32m      5\u001b[0m \u001b[0;32mfrom\u001b[0m \u001b[0;34m.\u001b[0m\u001b[0mbigg_models_repository\u001b[0m \u001b[0;32mimport\u001b[0m \u001b[0mBiGGModels\u001b[0m\u001b[0;34m\u001b[0m\u001b[0;34m\u001b[0m\u001b[0m\n\u001b[1;32m      6\u001b[0m \u001b[0;32mfrom\u001b[0m \u001b[0;34m.\u001b[0m\u001b[0mbiomodels_repository\u001b[0m \u001b[0;32mimport\u001b[0m \u001b[0mBioModels\u001b[0m\u001b[0;34m\u001b[0m\u001b[0;34m\u001b[0m\u001b[0m\n",
      "\u001b[0;32m~/Documents/Personlig/Vs_code/hello_ds/.venv/lib/python3.7/site-packages/cobra/io/web/abstract_model_repository.py\u001b[0m in \u001b[0;36m<module>\u001b[0;34m\u001b[0m\n\u001b[1;32m      5\u001b[0m \u001b[0;32mfrom\u001b[0m \u001b[0mtyping\u001b[0m \u001b[0;32mimport\u001b[0m \u001b[0mUnion\u001b[0m\u001b[0;34m\u001b[0m\u001b[0;34m\u001b[0m\u001b[0m\n\u001b[1;32m      6\u001b[0m \u001b[0;34m\u001b[0m\u001b[0m\n\u001b[0;32m----> 7\u001b[0;31m \u001b[0;32mimport\u001b[0m \u001b[0mhttpx\u001b[0m\u001b[0;34m\u001b[0m\u001b[0;34m\u001b[0m\u001b[0m\n\u001b[0m\u001b[1;32m      8\u001b[0m from rich.progress import (\n\u001b[1;32m      9\u001b[0m     \u001b[0mBarColumn\u001b[0m\u001b[0;34m,\u001b[0m\u001b[0;34m\u001b[0m\u001b[0;34m\u001b[0m\u001b[0m\n",
      "\u001b[0;32m~/Documents/Personlig/Vs_code/hello_ds/.venv/lib/python3.7/site-packages/httpx/__init__.py\u001b[0m in \u001b[0;36m<module>\u001b[0;34m\u001b[0m\n\u001b[1;32m      1\u001b[0m \u001b[0;32mfrom\u001b[0m \u001b[0;34m.\u001b[0m\u001b[0m__version__\u001b[0m \u001b[0;32mimport\u001b[0m \u001b[0m__description__\u001b[0m\u001b[0;34m,\u001b[0m \u001b[0m__title__\u001b[0m\u001b[0;34m,\u001b[0m \u001b[0m__version__\u001b[0m\u001b[0;34m\u001b[0m\u001b[0;34m\u001b[0m\u001b[0m\n\u001b[0;32m----> 2\u001b[0;31m \u001b[0;32mfrom\u001b[0m \u001b[0;34m.\u001b[0m\u001b[0m_api\u001b[0m \u001b[0;32mimport\u001b[0m \u001b[0mdelete\u001b[0m\u001b[0;34m,\u001b[0m \u001b[0mget\u001b[0m\u001b[0;34m,\u001b[0m \u001b[0mhead\u001b[0m\u001b[0;34m,\u001b[0m \u001b[0moptions\u001b[0m\u001b[0;34m,\u001b[0m \u001b[0mpatch\u001b[0m\u001b[0;34m,\u001b[0m \u001b[0mpost\u001b[0m\u001b[0;34m,\u001b[0m \u001b[0mput\u001b[0m\u001b[0;34m,\u001b[0m \u001b[0mrequest\u001b[0m\u001b[0;34m,\u001b[0m \u001b[0mstream\u001b[0m\u001b[0;34m\u001b[0m\u001b[0;34m\u001b[0m\u001b[0m\n\u001b[0m\u001b[1;32m      3\u001b[0m \u001b[0;32mfrom\u001b[0m \u001b[0;34m.\u001b[0m\u001b[0m_auth\u001b[0m \u001b[0;32mimport\u001b[0m \u001b[0mAuth\u001b[0m\u001b[0;34m,\u001b[0m \u001b[0mBasicAuth\u001b[0m\u001b[0;34m,\u001b[0m \u001b[0mDigestAuth\u001b[0m\u001b[0;34m\u001b[0m\u001b[0;34m\u001b[0m\u001b[0m\n\u001b[1;32m      4\u001b[0m \u001b[0;32mfrom\u001b[0m \u001b[0;34m.\u001b[0m\u001b[0m_client\u001b[0m \u001b[0;32mimport\u001b[0m \u001b[0mUSE_CLIENT_DEFAULT\u001b[0m\u001b[0;34m,\u001b[0m \u001b[0mAsyncClient\u001b[0m\u001b[0;34m,\u001b[0m \u001b[0mClient\u001b[0m\u001b[0;34m\u001b[0m\u001b[0;34m\u001b[0m\u001b[0m\n\u001b[1;32m      5\u001b[0m \u001b[0;32mfrom\u001b[0m \u001b[0;34m.\u001b[0m\u001b[0m_config\u001b[0m \u001b[0;32mimport\u001b[0m \u001b[0mLimits\u001b[0m\u001b[0;34m,\u001b[0m \u001b[0mProxy\u001b[0m\u001b[0;34m,\u001b[0m \u001b[0mTimeout\u001b[0m\u001b[0;34m,\u001b[0m \u001b[0mcreate_ssl_context\u001b[0m\u001b[0;34m\u001b[0m\u001b[0;34m\u001b[0m\u001b[0m\n",
      "\u001b[0;32m~/Documents/Personlig/Vs_code/hello_ds/.venv/lib/python3.7/site-packages/httpx/_api.py\u001b[0m in \u001b[0;36m<module>\u001b[0;34m\u001b[0m\n\u001b[1;32m      2\u001b[0m \u001b[0;32mfrom\u001b[0m \u001b[0mcontextlib\u001b[0m \u001b[0;32mimport\u001b[0m \u001b[0mcontextmanager\u001b[0m\u001b[0;34m\u001b[0m\u001b[0;34m\u001b[0m\u001b[0m\n\u001b[1;32m      3\u001b[0m \u001b[0;34m\u001b[0m\u001b[0m\n\u001b[0;32m----> 4\u001b[0;31m \u001b[0;32mfrom\u001b[0m \u001b[0;34m.\u001b[0m\u001b[0m_client\u001b[0m \u001b[0;32mimport\u001b[0m \u001b[0mClient\u001b[0m\u001b[0;34m\u001b[0m\u001b[0;34m\u001b[0m\u001b[0m\n\u001b[0m\u001b[1;32m      5\u001b[0m \u001b[0;32mfrom\u001b[0m \u001b[0;34m.\u001b[0m\u001b[0m_config\u001b[0m \u001b[0;32mimport\u001b[0m \u001b[0mDEFAULT_TIMEOUT_CONFIG\u001b[0m\u001b[0;34m\u001b[0m\u001b[0;34m\u001b[0m\u001b[0m\n\u001b[1;32m      6\u001b[0m \u001b[0;32mfrom\u001b[0m \u001b[0;34m.\u001b[0m\u001b[0m_models\u001b[0m \u001b[0;32mimport\u001b[0m \u001b[0mResponse\u001b[0m\u001b[0;34m\u001b[0m\u001b[0;34m\u001b[0m\u001b[0m\n",
      "\u001b[0;32m~/Documents/Personlig/Vs_code/hello_ds/.venv/lib/python3.7/site-packages/httpx/_client.py\u001b[0m in \u001b[0;36m<module>\u001b[0;34m\u001b[0m\n\u001b[1;32m     27\u001b[0m \u001b[0;32mfrom\u001b[0m \u001b[0;34m.\u001b[0m\u001b[0m_transports\u001b[0m\u001b[0;34m.\u001b[0m\u001b[0masgi\u001b[0m \u001b[0;32mimport\u001b[0m \u001b[0mASGITransport\u001b[0m\u001b[0;34m\u001b[0m\u001b[0;34m\u001b[0m\u001b[0m\n\u001b[1;32m     28\u001b[0m \u001b[0;32mfrom\u001b[0m \u001b[0;34m.\u001b[0m\u001b[0m_transports\u001b[0m\u001b[0;34m.\u001b[0m\u001b[0mbase\u001b[0m \u001b[0;32mimport\u001b[0m \u001b[0mAsyncBaseTransport\u001b[0m\u001b[0;34m,\u001b[0m \u001b[0mBaseTransport\u001b[0m\u001b[0;34m\u001b[0m\u001b[0;34m\u001b[0m\u001b[0m\n\u001b[0;32m---> 29\u001b[0;31m \u001b[0;32mfrom\u001b[0m \u001b[0;34m.\u001b[0m\u001b[0m_transports\u001b[0m\u001b[0;34m.\u001b[0m\u001b[0mdefault\u001b[0m \u001b[0;32mimport\u001b[0m \u001b[0mAsyncHTTPTransport\u001b[0m\u001b[0;34m,\u001b[0m \u001b[0mHTTPTransport\u001b[0m\u001b[0;34m\u001b[0m\u001b[0;34m\u001b[0m\u001b[0m\n\u001b[0m\u001b[1;32m     30\u001b[0m \u001b[0;32mfrom\u001b[0m \u001b[0;34m.\u001b[0m\u001b[0m_transports\u001b[0m\u001b[0;34m.\u001b[0m\u001b[0mwsgi\u001b[0m \u001b[0;32mimport\u001b[0m \u001b[0mWSGITransport\u001b[0m\u001b[0;34m\u001b[0m\u001b[0;34m\u001b[0m\u001b[0m\n\u001b[1;32m     31\u001b[0m from ._types import (\n",
      "\u001b[0;32m~/Documents/Personlig/Vs_code/hello_ds/.venv/lib/python3.7/site-packages/httpx/_transports/default.py\u001b[0m in \u001b[0;36m<module>\u001b[0;34m\u001b[0m\n\u001b[1;32m     28\u001b[0m \u001b[0;32mfrom\u001b[0m \u001b[0mtypes\u001b[0m \u001b[0;32mimport\u001b[0m \u001b[0mTracebackType\u001b[0m\u001b[0;34m\u001b[0m\u001b[0;34m\u001b[0m\u001b[0m\n\u001b[1;32m     29\u001b[0m \u001b[0;34m\u001b[0m\u001b[0m\n\u001b[0;32m---> 30\u001b[0;31m \u001b[0;32mimport\u001b[0m \u001b[0mhttpcore\u001b[0m\u001b[0;34m\u001b[0m\u001b[0;34m\u001b[0m\u001b[0m\n\u001b[0m\u001b[1;32m     31\u001b[0m \u001b[0;34m\u001b[0m\u001b[0m\n\u001b[1;32m     32\u001b[0m \u001b[0;32mfrom\u001b[0m \u001b[0;34m.\u001b[0m\u001b[0;34m.\u001b[0m\u001b[0m_config\u001b[0m \u001b[0;32mimport\u001b[0m \u001b[0mDEFAULT_LIMITS\u001b[0m\u001b[0;34m,\u001b[0m \u001b[0mLimits\u001b[0m\u001b[0;34m,\u001b[0m \u001b[0mProxy\u001b[0m\u001b[0;34m,\u001b[0m \u001b[0mcreate_ssl_context\u001b[0m\u001b[0;34m\u001b[0m\u001b[0;34m\u001b[0m\u001b[0m\n",
      "\u001b[0;32m~/Documents/Personlig/Vs_code/hello_ds/.venv/lib/python3.7/site-packages/httpcore/__init__.py\u001b[0m in \u001b[0;36m<module>\u001b[0;34m\u001b[0m\n\u001b[0;32m----> 1\u001b[0;31m \u001b[0;32mfrom\u001b[0m \u001b[0;34m.\u001b[0m\u001b[0m_api\u001b[0m \u001b[0;32mimport\u001b[0m \u001b[0mrequest\u001b[0m\u001b[0;34m,\u001b[0m \u001b[0mstream\u001b[0m\u001b[0;34m\u001b[0m\u001b[0;34m\u001b[0m\u001b[0m\n\u001b[0m\u001b[1;32m      2\u001b[0m from ._async import (\n\u001b[1;32m      3\u001b[0m     \u001b[0mAsyncConnectionInterface\u001b[0m\u001b[0;34m,\u001b[0m\u001b[0;34m\u001b[0m\u001b[0;34m\u001b[0m\u001b[0m\n\u001b[1;32m      4\u001b[0m     \u001b[0mAsyncConnectionPool\u001b[0m\u001b[0;34m,\u001b[0m\u001b[0;34m\u001b[0m\u001b[0;34m\u001b[0m\u001b[0m\n\u001b[1;32m      5\u001b[0m     \u001b[0mAsyncHTTP2Connection\u001b[0m\u001b[0;34m,\u001b[0m\u001b[0;34m\u001b[0m\u001b[0;34m\u001b[0m\u001b[0m\n",
      "\u001b[0;32m~/Documents/Personlig/Vs_code/hello_ds/.venv/lib/python3.7/site-packages/httpcore/_api.py\u001b[0m in \u001b[0;36m<module>\u001b[0;34m\u001b[0m\n\u001b[1;32m      3\u001b[0m \u001b[0;34m\u001b[0m\u001b[0m\n\u001b[1;32m      4\u001b[0m \u001b[0;32mfrom\u001b[0m \u001b[0;34m.\u001b[0m\u001b[0m_models\u001b[0m \u001b[0;32mimport\u001b[0m \u001b[0mURL\u001b[0m\u001b[0;34m,\u001b[0m \u001b[0mResponse\u001b[0m\u001b[0;34m\u001b[0m\u001b[0;34m\u001b[0m\u001b[0m\n\u001b[0;32m----> 5\u001b[0;31m \u001b[0;32mfrom\u001b[0m \u001b[0;34m.\u001b[0m\u001b[0m_sync\u001b[0m\u001b[0;34m.\u001b[0m\u001b[0mconnection_pool\u001b[0m \u001b[0;32mimport\u001b[0m \u001b[0mConnectionPool\u001b[0m\u001b[0;34m\u001b[0m\u001b[0;34m\u001b[0m\u001b[0m\n\u001b[0m\u001b[1;32m      6\u001b[0m \u001b[0;34m\u001b[0m\u001b[0m\n\u001b[1;32m      7\u001b[0m \u001b[0;34m\u001b[0m\u001b[0m\n",
      "\u001b[0;32m~/Documents/Personlig/Vs_code/hello_ds/.venv/lib/python3.7/site-packages/httpcore/_sync/__init__.py\u001b[0m in \u001b[0;36m<module>\u001b[0;34m\u001b[0m\n\u001b[0;32m----> 1\u001b[0;31m \u001b[0;32mfrom\u001b[0m \u001b[0;34m.\u001b[0m\u001b[0mconnection\u001b[0m \u001b[0;32mimport\u001b[0m \u001b[0mHTTPConnection\u001b[0m\u001b[0;34m\u001b[0m\u001b[0;34m\u001b[0m\u001b[0m\n\u001b[0m\u001b[1;32m      2\u001b[0m \u001b[0;32mfrom\u001b[0m \u001b[0;34m.\u001b[0m\u001b[0mconnection_pool\u001b[0m \u001b[0;32mimport\u001b[0m \u001b[0mConnectionPool\u001b[0m\u001b[0;34m\u001b[0m\u001b[0;34m\u001b[0m\u001b[0m\n\u001b[1;32m      3\u001b[0m \u001b[0;32mfrom\u001b[0m \u001b[0;34m.\u001b[0m\u001b[0mhttp11\u001b[0m \u001b[0;32mimport\u001b[0m \u001b[0mHTTP11Connection\u001b[0m\u001b[0;34m\u001b[0m\u001b[0;34m\u001b[0m\u001b[0m\n\u001b[1;32m      4\u001b[0m \u001b[0;32mfrom\u001b[0m \u001b[0;34m.\u001b[0m\u001b[0mhttp_proxy\u001b[0m \u001b[0;32mimport\u001b[0m \u001b[0mHTTPProxy\u001b[0m\u001b[0;34m\u001b[0m\u001b[0;34m\u001b[0m\u001b[0m\n\u001b[1;32m      5\u001b[0m \u001b[0;32mfrom\u001b[0m \u001b[0;34m.\u001b[0m\u001b[0minterfaces\u001b[0m \u001b[0;32mimport\u001b[0m \u001b[0mConnectionInterface\u001b[0m\u001b[0;34m\u001b[0m\u001b[0;34m\u001b[0m\u001b[0m\n",
      "\u001b[0;32m~/Documents/Personlig/Vs_code/hello_ds/.venv/lib/python3.7/site-packages/httpcore/_sync/connection.py\u001b[0m in \u001b[0;36m<module>\u001b[0;34m\u001b[0m\n\u001b[1;32m      9\u001b[0m \u001b[0;32mfrom\u001b[0m \u001b[0;34m.\u001b[0m\u001b[0;34m.\u001b[0m\u001b[0m_synchronization\u001b[0m \u001b[0;32mimport\u001b[0m \u001b[0mLock\u001b[0m\u001b[0;34m\u001b[0m\u001b[0;34m\u001b[0m\u001b[0m\n\u001b[1;32m     10\u001b[0m \u001b[0;32mfrom\u001b[0m \u001b[0;34m.\u001b[0m\u001b[0;34m.\u001b[0m\u001b[0m_trace\u001b[0m \u001b[0;32mimport\u001b[0m \u001b[0mTrace\u001b[0m\u001b[0;34m\u001b[0m\u001b[0;34m\u001b[0m\u001b[0m\n\u001b[0;32m---> 11\u001b[0;31m \u001b[0;32mfrom\u001b[0m \u001b[0;34m.\u001b[0m\u001b[0;34m.\u001b[0m\u001b[0mbackends\u001b[0m\u001b[0;34m.\u001b[0m\u001b[0msync\u001b[0m \u001b[0;32mimport\u001b[0m \u001b[0mSyncBackend\u001b[0m\u001b[0;34m\u001b[0m\u001b[0;34m\u001b[0m\u001b[0m\n\u001b[0m\u001b[1;32m     12\u001b[0m \u001b[0;32mfrom\u001b[0m \u001b[0;34m.\u001b[0m\u001b[0;34m.\u001b[0m\u001b[0mbackends\u001b[0m\u001b[0;34m.\u001b[0m\u001b[0mbase\u001b[0m \u001b[0;32mimport\u001b[0m \u001b[0mNetworkBackend\u001b[0m\u001b[0;34m,\u001b[0m \u001b[0mNetworkStream\u001b[0m\u001b[0;34m\u001b[0m\u001b[0;34m\u001b[0m\u001b[0m\n\u001b[1;32m     13\u001b[0m \u001b[0;32mfrom\u001b[0m \u001b[0;34m.\u001b[0m\u001b[0mhttp11\u001b[0m \u001b[0;32mimport\u001b[0m \u001b[0mHTTP11Connection\u001b[0m\u001b[0;34m\u001b[0m\u001b[0;34m\u001b[0m\u001b[0m\n",
      "\u001b[0;32m~/Documents/Personlig/Vs_code/hello_ds/.venv/lib/python3.7/site-packages/httpcore/backends/sync.py\u001b[0m in \u001b[0;36m<module>\u001b[0;34m\u001b[0m\n\u001b[1;32m     12\u001b[0m     \u001b[0mmap_exceptions\u001b[0m\u001b[0;34m,\u001b[0m\u001b[0;34m\u001b[0m\u001b[0;34m\u001b[0m\u001b[0m\n\u001b[1;32m     13\u001b[0m )\n\u001b[0;32m---> 14\u001b[0;31m \u001b[0;32mfrom\u001b[0m \u001b[0;34m.\u001b[0m\u001b[0;34m.\u001b[0m\u001b[0m_utils\u001b[0m \u001b[0;32mimport\u001b[0m \u001b[0mis_socket_readable\u001b[0m\u001b[0;34m\u001b[0m\u001b[0;34m\u001b[0m\u001b[0m\n\u001b[0m\u001b[1;32m     15\u001b[0m \u001b[0;32mfrom\u001b[0m \u001b[0;34m.\u001b[0m\u001b[0mbase\u001b[0m \u001b[0;32mimport\u001b[0m \u001b[0mNetworkBackend\u001b[0m\u001b[0;34m,\u001b[0m \u001b[0mNetworkStream\u001b[0m\u001b[0;34m\u001b[0m\u001b[0;34m\u001b[0m\u001b[0m\n\u001b[1;32m     16\u001b[0m \u001b[0;34m\u001b[0m\u001b[0m\n",
      "\u001b[0;31mModuleNotFoundError\u001b[0m: No module named 'httpcore._utils'"
     ]
    }
   ],
   "source": [
    "from cobra.io import read_sbml_model\n",
    "\n",
    "# Read the model from the SBML file\n",
    "model = read_sbml_model('ecoli_core_model.xml')\n",
    "# Give a description of the model\n",
    "print(f\"Model description: {model.description}\")\n",
    "\n",
    "# Print the implemented metabolic subsystems\n",
    "print(\"Implemented metabolic subsystems:\")\n",
    "for group in model.groups:\n",
    "    print(group)\n",
    "\n"
   ]
  },
  {
   "cell_type": "markdown",
   "metadata": {},
   "source": [
    "(ii) Simulate the optimal growth phenotype on aerobic, minimal glucose media, by setting the lower bound of glucose uptake ('EX_glc__D_e') to a biologically reasonable uptake rate of -18.5 mmol gDW<sup>-1</sup> h<sup>-1</sup> and the oxygen uptake EX_o2_e to -1000 mmol gDW<sup>-1</sup> h<sup>-1</sup> <sup>i</sup>. What is the maximal specific growth rate and what are the uptake fluxes of glucose, ammonia, oxygen, and inorganic phosphate in the optimal solution?\n",
    "\n",
    "<sup>i</sup> Note that uptake reaction flux bounds by default are negative, which is due to how these traditionally are defined in constraint-based models of metabolism. A boundary metabolite X is taken up by the system using the following format for the exchange reaction X $\\Longleftrightarrow$, where a positive and negative flux denotes secretion and uptake, respectively."
   ]
  },
  {
   "cell_type": "code",
   "execution_count": null,
   "metadata": {},
   "outputs": [],
   "source": [
    "# Set the lower bound of glucose uptake and oxygen uptake\n",
    "model.reactions.get_by_id('EX_glc__D_e').lower_bound = -18.5\n",
    "model.reactions.get_by_id('EX_o2_e').lower_bound = -1000\n",
    "\n",
    "# Perform FBA\n",
    "solution = model.optimize()\n",
    "\n",
    "# Get the maximal specific growth rate\n",
    "max_growth_rate = solution.objective_value\n",
    "\n",
    "# Get the uptake fluxes\n",
    "glucose_uptake_flux = solution.fluxes['EX_glc__D_e']\n",
    "ammonia_uptake_flux = solution.fluxes['EX_nh4_e']\n",
    "oxygen_uptake_flux = solution.fluxes['EX_o2_e']\n",
    "inorganic_phosphate_uptake_flux = solution.fluxes['EX_pi_e']\n",
    "\n",
    "# Print the results\n",
    "print(f\"Maximal specific growth rate: {max_growth_rate} h^-1\")\n",
    "print(f\"Glucose uptake flux: {glucose_uptake_flux} mmol g^-1 h^-1\")\n",
    "print(f\"Ammonia uptake flux: {ammonia_uptake_flux} mmol g^-1 h^-1\")\n",
    "print(f\"Oxygen uptake flux: {oxygen_uptake_flux} mmol g^-1 h^-1\")\n",
    "print(f\"Inorganic phosphate uptake flux: {inorganic_phosphate_uptake_flux} mmol g^-1 h^-1\")\n"
   ]
  },
  {
   "cell_type": "markdown",
   "metadata": {},
   "source": [
    "(iii) What is the secretion profile of anaerobic growth on glucose? Compare with that of aerobic growth on glucose (ii) and provide a biochemical explanation for their differences."
   ]
  },
  {
   "cell_type": "code",
   "execution_count": null,
   "metadata": {},
   "outputs": [],
   "source": []
  },
  {
   "cell_type": "markdown",
   "metadata": {},
   "source": [
    "(iv) Visualize the reaction fluxes of both the aerobic and anaerobic flux phenotypes using the *E. coli* core model pathway map (found [here](https://escher.github.io/#/app?map=e_coli_core.Core\\%20metabolism&tool=Builder&model=e_coli_core)) by creating a dictionary of reaction ids and corresponding fluxes, then writing this to a json file. Import the data into Escher by clicking Data $\\rightarrow$ Load reaction data, then select your json file. Describe and discuss the difference in flux distributions."
   ]
  },
  {
   "cell_type": "code",
   "execution_count": null,
   "metadata": {},
   "outputs": [],
   "source": [
    "import json\n",
    "\n",
    "# Create a dictionary of reaction IDs and fluxes\n",
    "reaction_fluxes = {}\n",
    "for reaction in model.reactions:\n",
    "    reaction_fluxes[reaction.id] = solution.fluxes[reaction.id]\n",
    "\n",
    "# Write the dictionary to a JSON file\n",
    "with open('reaction_fluxes.json', 'w') as file:\n",
    "    json.dump(reaction_fluxes, file)\n"
   ]
  },
  {
   "cell_type": "markdown",
   "metadata": {},
   "source": [
    "(v) Setting the maximal substrate uptake flux to 10 mmol gDW<sup>-1</sup> h<sup>-1</sup>, maximize growth using each of the carbon sources listed in Table 1 individually under both aerobic and anaerobic conditions.\n",
    "\n",
    "### Table 1 \n",
    "| Substrate | Exchange reaction ID |\n",
    "| --- | --- |\n",
    "| acetate | EX_ac_e |\n",
    "| acetaldehyde | EX_acald_e |\n",
    "| 2-oxoglutarate | EX_akg_e | \n",
    "| ethanol | EX_etoh_e |\n",
    "| D-fructose | EX_fru_e |\n",
    "| fumarate | EX_fum_e |\n",
    "| D-glucose | EX_glc__D_e |\n",
    "| L-glutamine | EX_gln_L_e |\n",
    "| L-glutamate | EX_glu_L_e |\n",
    "| D-lactate | EX_lac_D_e |\n",
    "| L-malate | EX_mal_L_e |\n",
    "| pyruvate | EX_pyr_e |\n",
    "| succinate | EX_succ_e |"
   ]
  },
  {
   "cell_type": "code",
   "execution_count": null,
   "metadata": {},
   "outputs": [],
   "source": [
    "from cobra import Model, Reaction\n",
    "from cobra.io import read_sbml_model\n",
    "\n",
    "# Read the model from the SBML file\n",
    "model = read_sbml_model('ecoli_core_model.xml')\n",
    "\n",
    "# Define the carbon sources and their corresponding exchange reaction IDs\n",
    "carbon_sources = {\n",
    "    'acetate': 'EX_ac_e',\n",
    "    'acetaldehyde': 'EX_acald_e',\n",
    "    '2-oxoglutarate': 'EX_akg_e',\n",
    "    'ethanol': 'EX_etoh_e',\n",
    "    'D-fructose': 'EX_fru_e',\n",
    "    'fumarate': 'EX_fum_e',\n",
    "    'D-glucose': 'EX_glc__D_e',\n",
    "    'L-glutamine': 'EX_gln_L_e',\n",
    "    'L-glutamate': 'EX_glu_L_e',\n",
    "    'D-lactate': 'EX_lac_D_e',\n",
    "    'L-malate': 'EX_mal_L_e',\n",
    "    'pyruvate': 'EX_pyr_e',\n",
    "    'succinate': 'EX_succ_e'\n",
    "}\n",
    "\n",
    "# Perform FBA for each carbon source under both aerobic and anaerobic conditions\n",
    "for carbon_source, exchange_reaction_id in carbon_sources.items():\n",
    "    # Set the lower bound of the carbon source uptake to 10 mmol gDW^-1 h^-1\n",
    "    model.reactions.get_by_id(exchange_reaction_id).lower_bound = -10\n",
    "    \n",
    "    # Set the objective as the biomass reaction\n",
    "    model.objective = 'Biomass_Ecoli_core_w_GAM'\n",
    "    \n",
    "    # Perform FBA under aerobic conditions\n",
    "    solution_aerobic = model.optimize()\n",
    "    max_growth_rate_aerobic = solution_aerobic.objective_value\n",
    "    \n",
    "    # Set the lower bound of the oxygen uptake to 0 for anaerobic conditions\n",
    "    model.reactions.get_by_id('EX_o2_e').lower_bound = 0\n",
    "    \n",
    "    # Perform FBA under anaerobic conditions\n",
    "    solution_anaerobic = model.optimize()\n",
    "    max_growth_rate_anaerobic = solution_anaerobic.objective_value\n",
    "    \n",
    "    # Print the results\n",
    "    print(f\"Carbon source: {carbon_source}\")\n",
    "    print(f\"Maximal growth rate (aerobic): {max_growth_rate_aerobic} h^-1\")\n",
    "    print(f\"Maximal growth rate (anaerobic): {max_growth_rate_anaerobic} h^-1\")\n",
    "    print(\"\")\n"
   ]
  }
 ],
 "metadata": {
  "interpreter": {
   "hash": "fd8ecb0a0e5529365023c160038f61c833598c1f7ab6b6860ba833c51f7774d8"
  },
  "kernelspec": {
   "display_name": "Python 3",
   "language": "python",
   "name": "python3"
  },
  "language_info": {
   "codemirror_mode": {
    "name": "ipython",
    "version": 3
   },
   "file_extension": ".py",
   "mimetype": "text/x-python",
   "name": "python",
   "nbconvert_exporter": "python",
   "pygments_lexer": "ipython3",
   "version": "3.7.4"
  }
 },
 "nbformat": 4,
 "nbformat_minor": 2
}
